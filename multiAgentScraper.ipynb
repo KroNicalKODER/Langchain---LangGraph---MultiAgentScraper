{
 "cells": [
  {
   "cell_type": "code",
   "execution_count": 3,
   "metadata": {},
   "outputs": [],
   "source": [
    "from typing import List, Dict, Any\n",
    "from langchain_core.messages import HumanMessage, AIMessage\n",
    "from langchain_community.llms import Ollama\n",
    "from langchain_core.prompts import ChatPromptTemplate\n",
    "from langgraph.graph import Graph, StateGraph\n",
    "from tavily import TavilyClient\n",
    "import asyncio\n",
    "from dotenv import load_dotenv\n",
    "import os"
   ]
  },
  {
   "cell_type": "code",
   "execution_count": 4,
   "metadata": {},
   "outputs": [
    {
     "data": {
      "text/plain": [
       "True"
      ]
     },
     "execution_count": 4,
     "metadata": {},
     "output_type": "execute_result"
    }
   ],
   "source": [
    "# Load environment variables\n",
    "load_dotenv()"
   ]
  },
  {
   "cell_type": "code",
   "execution_count": 97,
   "metadata": {},
   "outputs": [],
   "source": [
    "class ResearchAgent:\n",
    "    def __init__(self):\n",
    "        # Initialize Ollama with DeepSeek model\n",
    "        self.llm = Ollama(model=\"llama3.2\")\n",
    "        \n",
    "        # Initialize Tavily client\n",
    "        self.tavily_client = TavilyClient(api_key=os.getenv(\"TAVILY_API_KEY\"))\n",
    "        \n",
    "        # Define the initial context prompt\n",
    "        self.initial_context_prompt = ChatPromptTemplate.from_messages([\n",
    "            (\"system\", \"\"\"You are an expert research assistant. Your task is to analyze the initial web search results and provide a brief overview of the topic.\n",
    "            This overview will help in generating more focused sub-queries.\"\"\"),\n",
    "            (\"human\", \"Query: {query}\\n\\nInitial Search Results: {search_results}\")\n",
    "        ])\n",
    "        \n",
    "        # Define the query breakdown prompt\n",
    "        self.query_breakdown_prompt = ChatPromptTemplate.from_messages([\n",
    "            (\"system\", \"\"\"You are an expert research assistant. Your task is to break down complex queries into specific, focused sub-queries.\n",
    "            Based on the initial context provided, break down the given query into 5-10 specific sub-queries that will help gather comprehensive information.\n",
    "            Each sub-query should be clear, focused, and searchable. Please strictly dont add any other text or comments other than the sub-queries.\n",
    "            Return the sub-queries as a list. Give your response in form like \n",
    "            \n",
    "             <<sub_query1>>\n",
    "             <<sub_query2>>\n",
    "             <<sub_query3>>\n",
    "             <<sub_query4>>\n",
    "             and so on.....\n",
    "            \"\"\"),\n",
    "            (\"human\", \"Original Query: {query}\\n\\nInitial Context: {initial_context}\")\n",
    "        ])\n",
    "        \n",
    "        # Define the context combination prompt\n",
    "        self.context_combination_prompt = ChatPromptTemplate.from_messages([\n",
    "            (\"system\", \"\"\"You are an expert research synthesizer. Your task is to combine information from multiple sources into a coherent context. \n",
    "             You are given a list of sub-queries and the information gathered from the web for a original query.\n",
    "             Provide as much information as possible from the information scraped from the web for the original query, which is further be used to generate the response for the user.\n",
    "             Please strictly dont add any other text or comments other than the context.\n",
    "            Combine the following information into a comprehensive, well-structured context that answers the original query. Remember these are the web scraped information so you might get some web terminologies like\n",
    "             table of content, print, etc. Please ignore all these type of words and terminologies and focus only on the context provided. Also, focus the original query and provide the most relevant information.\n",
    "            \"\"\")\n",
    "            ,(\"human\", \"Original Query: {query}\\n\\nInformation: {information}\")\n",
    "        ])\n",
    "        \n",
    "        # Define the final response prompt\n",
    "        self.final_response_prompt = ChatPromptTemplate.from_messages([\n",
    "            (\"system\", \"\"\"You are an expert research assistant. Using the provided context and original query, generate a comprehensive, well-structured response.\n",
    "            Your response should be detailed, accurate, and directly address the original query.\"\"\"),\n",
    "            (\"human\", \"Original Query: {query}\\n\\nContext: {context}\")\n",
    "        ])\n",
    "\n",
    "    async def get_initial_context(self, query: str) -> str:\n",
    "        \"\"\"Get initial context about the topic from the web.\"\"\"\n",
    "        # First, do a quick search to get an overview\n",
    "        initial_search = self.tavily_client.search(query=query, search_depth=\"advanced\", include_answer=\"basic\")\n",
    "        top_sources = initial_search.get(\"results\", [])[:3]\n",
    "        formatted_results = \"\\n\\n\".join([\n",
    "            f\"Content: {source.get('content', '')}\"\n",
    "            for source in top_sources\n",
    "        ])\n",
    "        \n",
    "        # Use LLM to analyze the initial results and provide context\n",
    "        chain = self.initial_context_prompt | self.llm\n",
    "        response = await chain.ainvoke({\n",
    "            \"query\": query,\n",
    "            \"search_results\": formatted_results\n",
    "        })\n",
    "        return response\n",
    "\n",
    "    async def break_down_query(self, query: str, initial_context: str) -> List[str]:\n",
    "        \"\"\"Break down the main query into sub-queries using the initial context.\"\"\"\n",
    "        chain = self.query_breakdown_prompt | self.llm\n",
    "        response = await chain.ainvoke({\n",
    "            \"query\": query,\n",
    "            \"initial_context\": initial_context\n",
    "        })\n",
    "        # Parse the response to extract sub-queries\n",
    "        sub_queries = [q.strip() for q in response.split('\\n') if q.strip()]\n",
    "\n",
    "        ## remomve  << and >> from the sub_queries \n",
    "        sub_queries = [q.strip(\"<>\") for q in sub_queries]\n",
    "        return sub_queries\n",
    "\n",
    "    async def scrape_information(self, query: str) -> Dict[str, Any]:\n",
    "        \"\"\"Scrape and combine information from the top 3 sources using Tavily.\"\"\"\n",
    "        \n",
    "        print(\"Scraping information for query: \", query)\n",
    "        search_result = self.tavily_client.search(query=query, search_depth=\"advanced\")\n",
    "        \n",
    "        # Get top 3 sources\n",
    "        top_sources = search_result.get(\"results\", [])[:3]\n",
    "\n",
    "        # Combine the content from top 3 sources\n",
    "        combined_content = \"\\n\\n\".join([\n",
    "            source.get(\"content\", \"\") for source in top_sources if source.get(\"content\")\n",
    "        ])\n",
    "\n",
    "        return {\n",
    "            \"query\": query,\n",
    "            \"content\": combined_content,\n",
    "        }\n",
    "\n",
    "\n",
    "    async def process_all_queries(self, queries: List[str]) -> List[Dict[str, Any]]:\n",
    "        \"\"\"Process all queries in parallel.\"\"\"\n",
    "        \n",
    "        tasks = [self.scrape_information(query) for query in queries]\n",
    "        results = await asyncio.gather(*tasks)\n",
    "        return results\n",
    "\n",
    "    async def combine_context(self, query: str, information: List[Dict[str, Any]]) -> str:\n",
    "        \"\"\"Combine all scraped information into a coherent context.\"\"\"\n",
    "        combined_info = \"\\n\\n\".join([f\"Query: {item['query']}\\nContent: {item['content']}\" for item in information])\n",
    "        chain = self.context_combination_prompt | self.llm\n",
    "        response = await chain.ainvoke({\"query\": query, \"information\": combined_info})\n",
    "        return response\n",
    "\n",
    "    async def generate_final_response(self, query: str, context: str, initial_context: str) -> str:\n",
    "        \"\"\"Generate the final response using the combined context.\"\"\"\n",
    "        context = context + \"\\n\\n\" + initial_context\n",
    "        chain = self.final_response_prompt | self.llm\n",
    "        response = await chain.ainvoke({\"query\": query, \"context\": context})\n",
    "        return response\n",
    "\n",
    "    async def research(self, query: str) -> str:\n",
    "        \"\"\"Main research function that orchestrates the entire process.\"\"\"\n",
    "        # Step 0: Get initial context about the topic\n",
    "        print(\"Getting initial context...\")\n",
    "        initial_context = await self.get_initial_context(query)\n",
    "        print(f\"Initial context: {initial_context}\")\n",
    "        \n",
    "        # Step 1: Break down the query using initial context\n",
    "        print(\"\\nBreaking down query into sub-queries...\")\n",
    "        sub_queries = await self.break_down_query(query, initial_context)\n",
    "        print(f\"Generated sub-queries: {sub_queries}\")\n",
    "        \n",
    "        # Step 2: Scrape information for all queries in parallel\n",
    "        print(\"\\nScraping information for sub-queries...\")\n",
    "        scraped_info = await self.process_all_queries(sub_queries)\n",
    "        \n",
    "        # Step 3: Combine the context\n",
    "        print(\"\\nCombining context...\")\n",
    "        combined_context = await self.combine_context(query, scraped_info)\n",
    "        \n",
    "        # Step 4: Generate final response\n",
    "        print(\"\\nGenerating final response...\")\n",
    "        final_response = await self.generate_final_response(query, combined_context)\n",
    "        \n",
    "        return final_response\n"
   ]
  },
  {
   "cell_type": "code",
   "execution_count": 25,
   "metadata": {},
   "outputs": [],
   "source": [
    "query = \"Who is salman khan?\""
   ]
  },
  {
   "cell_type": "code",
   "execution_count": 98,
   "metadata": {},
   "outputs": [],
   "source": [
    "agent = ResearchAgent()"
   ]
  },
  {
   "cell_type": "code",
   "execution_count": null,
   "metadata": {},
   "outputs": [
    {
     "data": {
      "text/plain": [
       "\"Based on the initial web search results, it appears that Salman Khan is a renowned Indian actor, film producer, and television personality who has been active in the entertainment industry for over three decades. Here's a brief overview of his life and career:\\n\\n* Born: December 27, 1965, in Indore, Madhya Pradesh, India\\n* Occupation: Actor, film producer, television presenter\\n* Career span: 1988-present (over 100 movies)\\n* Notable awards: Two National Film Awards as a film producer, two Filmfare Awards as an actor\\n* Media recognition: One of the most commercially successful actors in Indian cinema\\n\\nThe search results also provide information about his early life, family, and career milestones. It's clear that Salman Khan is a significant figure in Indian entertainment, with a massive following and a legacy spanning multiple decades.\\n\\nTo further narrow down the topic, some potential sub-queries could be:\\n\\n* What are some of Salman Khan's most notable movies?\\n* How has Salman Khan's career evolved over time?\\n* What are his notable collaborations or friendships within the Bollywood industry?\\n* What are some of the controversies or criticisms surrounding Salman Khan?\\n\\nThese questions could provide more insight into Salman Khan's life and career, as well as help to refine the search results.\""
      ]
     },
     "execution_count": 30,
     "metadata": {},
     "output_type": "execute_result"
    }
   ],
   "source": [
    "\n",
    "initial_context = await agent.get_initial_context(query)\n",
    "initial_context\n"
   ]
  },
  {
   "cell_type": "code",
   "execution_count": 51,
   "metadata": {},
   "outputs": [
    {
     "data": {
      "text/plain": [
       "[\"Salman Khan's biography\",\n",
       " \"Notable movies in Salman Khan's filmography\",\n",
       " 'Career milestones and achievements of Salman Khan',\n",
       " 'Collaborations and friendships within Bollywood featuring Salman Khan',\n",
       " 'Controversies and criticisms surrounding Salman Khan',\n",
       " 'Awards and accolades received by Salman Khan',\n",
       " 'Impact on Indian cinema and cultural significance',\n",
       " \"Salman Khan's personal life and family history\",\n",
       " \"Evolution of Salman Khan's acting style and career trajectory\",\n",
       " 'Influence on popular culture and celebrity status']"
      ]
     },
     "execution_count": 51,
     "metadata": {},
     "output_type": "execute_result"
    }
   ],
   "source": [
    "queries = await agent.break_down_query(query, initial_context)\n",
    "queries = [q.strip(\"<>\") for q in queries]\n",
    "queries"
   ]
  },
  {
   "cell_type": "code",
   "execution_count": 87,
   "metadata": {},
   "outputs": [
    {
     "name": "stdout",
     "output_type": "stream",
     "text": [
      "Scraping information for query:  Salman Khan's biography\n",
      "Scraping information for query:  Notable movies in Salman Khan's filmography\n",
      "Scraping information for query:  Career milestones and achievements of Salman Khan\n",
      "Scraping information for query:  Collaborations and friendships within Bollywood featuring Salman Khan\n",
      "Scraping information for query:  Controversies and criticisms surrounding Salman Khan\n",
      "Scraping information for query:  Awards and accolades received by Salman Khan\n",
      "Scraping information for query:  Impact on Indian cinema and cultural significance\n",
      "Scraping information for query:  Salman Khan's personal life and family history\n",
      "Scraping information for query:  Evolution of Salman Khan's acting style and career trajectory\n",
      "Scraping information for query:  Influence on popular culture and celebrity status\n"
     ]
    },
    {
     "data": {
      "text/plain": [
       "[{'query': \"Salman Khan's biography\",\n",
       "  'content': \"Salman Khan (born December 27, 1965, Indore, Madhya Pradesh, India) is an Indian actor, film producer, and television host whose iconic roles, blockbuster hits, and mass appeal have earned him the status of a megastar in Bollywood. Over the years, he has become an inextricable part of popular culture in India. Khan, who started out as a model and actor in the late 1980s, has appeared in more than 100 movies and boasts a career spanning almost four decades. Along with actors Shah Rukh Khan and [...] Salman Khan Bollywood actor and producer Salman Khan at the inauguration of the Nita Mukesh Ambani Cultural Centre in Mumbai, on March 31, 2023. (more)\\nSalman Khan\\nIndian actor, film producer, and television presenter\\nAsk the Chatbot a Question\\nMore Actions\\nPrint\\nprint Print\\nPlease select which sections you would like to print:\\n\\nTable Of Contents [...] Salman Khan is the eldest of five siblings. He has two brothers, Sohail Khan and Arbaaz Khan, who are also actors and producers, and two sisters, Alvira Agnihotri Khan, who is a film producer and fashion designer, and Arpita Khan Sharma, who is an interior designer.\\nCareer and movies\\n1988–89: Debut and breakout\\nDid You Know?\\n\\nBiography\\nAwards\\nTrivia\\nFAQ\\n\\nIMDbPro\\nAll topics\\n\\n\\nBiography\\nSalman Khan\\nJump toEdit\\n### Overview\\n\\n\\nBorn\\nDecember 27, 1965 · Indore, Madhya Pradesh, India\\n\\n\\nBirth name\\nAbdul Rashid Salim Salman Khan\\n\\n\\nNicknames\\n\\nSallu\\nBhaijaan\\nDabangg Khan\\nRambo of India\\nThe Sylvester Stallone of India\\nThe Tiger of Bollywood\\nMuscle Khan\\nSupreme Khan\\nBlockbuster Star\\nRobin Hood Khan\\n\\n\\n\\nHeight\\n5′ 6″ (1.68 m)\\n\\n\\n### Mini Bio [...] Abdul Rashid Salim Salman Khan was born on December 27, 1965, in Mumbai to legendary screenwriter Salim Khan, who penned many super-hits in the yesteryear's like Sholay (1975), Deewaar (1975), and Don (1978). Khan started his acting career by doing a supporting role in the movie Biwi Ho To Aisi (1988). The following year he had the leading role in the box office romantic hit Maine Pyar Kiya (1989). From there he became a heartthrob of Indian cinema. [...] More recently, he starred in the multiple record-breaking box office super-hits Dabangg (2010), Ready (2011) and Bodyguard (2011).\\n- IMDb Mini Biography By: The Old Fox {by_oldfox@yahoo.com}\\n\\nSalman Khan is a renowned Indian actor, film producer, and TV personality along with a philanthropist. Apart from his Indian fan following, his fan count exceeds far greater even in international audiences. With more than 3 decades of his life dedicated to the film industry, he has a list of unforgettable movies in his corner. Also known by his nicknames “Sallu” and “Bhaijaan” which stands for “dear brother”, Salman has been publicly involved in a plethora of events- both positive and negative. [...] Salman Khan’s Biography\\n\\n\\n\\nHe was born to a Muslim father and Hindu mother in Indore, and brought up respecting and following both religions. Later when his father married the actress Helen, his relationship with his kids grew increasingly hostile and improved many years later. He has 2 brothers and 2 sisters, including 1 sister who he adopted. [...] Full Name | Abdul Rashid Salim Salman Khan\\nBirth Date | 27 December, 1965\\nOccupations | Actor, Film Producer, TV Personality, Philanthropist\\nAge | 58 years (as of 2023)\\nHeight | 5 feet 8 inches (1.73 m)\\nWeight | 165 pounds (75 kg)\\nMarital Status | Unmarried\\nGirlfriends | Sangeeta BijlaniSomy AliAishwarya RaiKatrina KaifFaria AlamIulia Vantur\\nSomy Ali\\n\\nAishwarya Rai\\n\\nKatrina Kaif\\n\\nFaria Alam\\n\\nIulia Vantur\\n\\nSalman Khan Facts\\n\\nSalman Khan’s Diet\"},\n",
       " {'query': \"Notable movies in Salman Khan's filmography\",\n",
       "  'content': 'His filmography includes successful movies such as \"Bajrangi Bhaijaan,\" \"Kick,\" \"Sultan,\" \"Tiger Zinda Hai,\" and \"Bharat\". He has also made\\n\\nof fluctuations, Khan resurrected his screen image with the action film Wanted (2009), and achieved greater stardom by starring in the top-grossing action films Dabangg (2010), Ready (2011), Bodyguard (2011), Ek Tha Tiger (2012), Dabangg 2 (2012), Kick (2014), and Tiger Zinda Hai (2017), and the dramas Bajrangi Bhaijaan (2015) and Sultan (2016). This was followed by a series of poorly-received films, with the exception of the sequel Tiger 3 (2023).\\n\\nvteSalman Khan\\nFilmographyAwards and nominations\\nProducer | Chillar Party(2011)Dr. Cabbie(2014)Bajrangi Bhaijaan(2015)Hero(2015)Tubelight(2017)Race 3(2018)Loveyatri(2018)Notebook(2019)Bharat(2019)Dabangg 3(2019)Kaagaz(2021)Radhe(2021)Antim: The Final Truth(2021)Kisi Ka Bhai Kisi Ki Jaan(2023)Sikandar(2025) | \\nFamily | Salim KhanSalma KhanArbaaz KhanSohail KhanHelen Richardson KhanAlvira Khan AgnihotriAtul Agnihotri\\nOwnership | Salman Khan FilmsBeing Human Foundation [...] Salman Khan is an Indian actor and producer, known for his work in Hindi films. He made his film debut with a brief role in Biwi Ho To Aisi (1988), before having his breakthrough with Sooraj Barjatya\\'s blockbuster romance Maine Pyar Kiya (1989) that won him the Filmfare Award for Best Male Debut.[1] In the early 1990s, he earned success with the action film Baaghi: A Rebel for Love (1990) and the romance Sanam Bewafa, Saajan (both 1991).[2][3][4] His other releases during this period failed [...] † | Denotes film or TV productions that have not yet been released\\nYear | Title | Role(s) | Notes | Ref.\\n1988 | Falak | — | Assistant director | [27]\\nBiwi Ho To Aisi | Vikram \"Vicky\" Bhandari |  | [28]\\n1989 | Maine Pyar Kiya | Prem Choudhary |  | [29][30]\\n1990 | Baaghi | Saajan Sood | Also writer | [31]\\n1991 | Sanam Bewafa | Salman Khan |  | [32]\\nPatthar Ke Phool | Suraj Verma |  | [33]\\nKurbaan | Akash |  | [34]\\nSaajan | Akash Varma |  | [35]\\nLove | Prithvi |  | [36]'},\n",
       " {'query': 'Career milestones and achievements of Salman Khan',\n",
       "  'content': \"Recent Projects\\n\\nStarting as an actor in 1989, Salman Khan has appeared in over 80 films throughout his illustrious career. His major milestones include box office success with films such as Dabangg, Prem Ratan Dhan Payo, and Tiger Zinda Hai which all crossed the impressive 100 crore mark more than once â\\x80\\x93 an accomplishment that not many Indian actors have achieved. [...] Khan began his career as a supporting artist in the 1988 action drama Biwi Ho To Aisi before going on to have leading roles in movies such as Maine Pyar Kiya (1989), Hum Aapke Hain Kaun (1994), Karan Arjun (1995), Dil Tu Pagal Hai (1997), and Hum Saath Saath Hain (1999). He has also acted in numerous commercially successful films such as Dabangg (2010), Ek Tha Tiger (2012), Kick (2014), and Sultan (2016) which have earned him multiple awards including four Filmfare Awards. [...] In recognition of his contributions to the entertainment industry, Salman has received several awards including two National Film Awards for Best Actor, three Filmfare Awards, as well as Honorary Doctorate from Maulana Azad National Urdu University for his contributions to Indian cinema. His success has also earned him numerous accolades from his peers and fans around the world.\\n\\nAbdul Rashid Salim Salman Khan (pronounced [səlˈmɑːn xɑːn]; born 27 December 1965)[1] is an Indian actor, film producer, and television personality who predominantly works in Hindi films. In a career spanning over three decades, Khan's awards, include two National Film Awards as a film producer, and two Filmfare Awards as an actor.[2] He is cited in the media as one of the most commercially successful actors of Indian cinema.[3][4] Forbes has included Khan in listings of the highest-paid [...] of fluctuations, Khan resurrected his screen image with the action film Wanted (2009), and achieved greater stardom by starring in the top-grossing action films Dabangg (2010), Ready (2011), Bodyguard (2011), Ek Tha Tiger (2012), Dabangg 2 (2012), Kick (2014), and Tiger Zinda Hai (2017), and the dramas Bajrangi Bhaijaan (2015) and Sultan (2016). This was followed by a series of poorly-received films, with the exception of the sequel Tiger 3 (2023). [...] He began his acting career with a supporting role in Biwi Ho To Aisi (1988), followed by his breakthrough with a leading role in Sooraj Barjatya's romantic drama Maine Pyar Kiya (1989), for which he was awarded the Filmfare Award for Best Male Debut. He established himself with several commercially successful films, including Barjatya's family dramas Hum Aapke Hain Koun..! (1994) and Hum Saath-Saath Hain (1999), the action film Karan Arjun (1995) and the comedy Biwi No.1 (1999). After a period\\n\\nSalman Khan is an Indian actor and film producer. He began his acting career with Biwi Ho To Aisi but it was his second film Maine Pyar Kiya in which he acted in a lead role that garnered him acclaim. Khan has starred in several commercially successful films, such as Saajan (1991), Hum Aapke Hain Koun..! (1994), Karan Arjun (1995), Judwaa (1997), Pyar Kiya To Darna Kya (1998), Biwi No.1 (1999), and Hum Saath Saath Hain (1999), having appeared in the highest-grossing film 10 separate years [...] In 1999, Khan won the Filmfare Award for Best Supporting Actor for his extended guest appearance in Kuch Kuch Hota Hai (1998). In 2011, he won the Screen Award for Best Actor for his performance in Dabangg and in 2012, he won the Best Actor Popular Choice for his performances in Ek Tha Tiger and Dabangg 2. Eight of the films he has acted in, have accumulated gross earnings of over ₹100 crore (US$12\\xa0million) worldwide.[2][3] He played leading roles in five consecutive blockbusters including [...] Dabangg, Ready, Bodyguard, Ek Tha Tiger, and Dabangg 2. In 2018, he won Best Actor for his performance in Sultan at Tehran International Sports Film Festival. He has starred in more than 80 Hindi films and thus far[4] has established himself as a leading actor of Hindi cinema.[5]\"},\n",
       " {'query': 'Collaborations and friendships within Bollywood featuring Salman Khan',\n",
       "  'content': \"Sanjay Dutt and Salman Khan share one of Bollywood's most iconic friendships, built over decades of mutual respect and countless collaborations.\\n\\nA post shared by Nadiadwala Grandson (@nadiadwalagrandson)\\n\\nCinematic Collaborations That Shaped Bollywood\\n\\nA Bond Beyond the Big Screen\\n\\nThe Anticipation Surrounding Sikandar\\n\\nConclusion: A Friendship That Inspires\\n\\nFrom Azaad to Alpha and Maalik - 2025's Most Anticipated Films!\\n\\nPushpa 2: The Rule (Hindi) Continues its Reign, After Weeks of Double-Digit Dominance!\\n\\nPushpa 2: The Rule (Hindi) Continues its Reign, After Weeks of Double-Digit Dominance! [...] Popular\\n\\nCartoons\\n\\nFacebook Covers\\n\\nNew Jokes\\n\\nPopular\\n\\nEmotions\\n\\nWishes & Specials\\n\\nShayari\\n\\nBollywood\\n\\nMore\\n\\nMovie Reviews\\n\\nIn Theatres Now\\n\\nPeople\\n\\nParties & Events\\n\\nMovies & Posters\\n\\nTrending Galleries\\n\\nMovie Trailers\\n\\nMusic Videos\\n\\nHumour\\n\\nTrending\\n\\nPeople\\n\\nSpiritual\\n\\nEmotions\\n\\nSports\\n\\nWishes\\n\\nCreative\\n\\nSpecial\\n\\nThe Enduring Bond of Salman Khan and Sajid Nadiadwala: A Tale of Friendship and Cinematic Brilliance!\\n\\nA Friendship Captured Through Time [...] ZEE5 has just dropped the thrilling teaser for its much-anticipated biographical crime\\n\\nSalman Khan Silences Fitness Critics by Effortlessly Climbing a Tree!\\n\\nBollywood superstar Salman Khan has once again reminded fans—and critics—why he continues to reign as\\n\\nFrom 'Raanjhanaa' to 'Tere Ishk Mein': Aanand L Rai Revisits Banaras with a New Love Story!\\n\\nCelebrated filmmaker Aanand L Rai is once again channeling his deep-rooted connection with\\n\\nSalman Khan and Suniel Shetty share a deep and enduring friendship that spans over three decades, both on and off the screen.\"},\n",
       " {'query': 'Controversies and criticisms surrounding Salman Khan',\n",
       "  'content': 'On December 27, 2024, Bollywood\\'s \"Bhai\" Salman Khan celebrates his 59th birthday, marking over three decades of his impactful career in the Indian film industry. Known for his blockbuster hits and strong fan following, Khan has often found himself at the centre of controversies throughout his career. Whether it\\'s his off-screen behavior, legal battles, or public statements, the actor has faced criticism and media attention for various reasons. On his special day, let\\'s take a look at some of [...] Khan was initially convicted in 2015 for culpable homicide and received five years in prison but later received a verdict of acquittal from the Bombay High Court in 2016.\\n\\nHowever, the case continues to be a source of controversy, with critics questioning the justice system and Khan\\'s role in the accident.\\n\\nCredit: AP\\n\\n3. Controversial comments on 26/11 Attacks (2013)\\n\\nDate of Incident: February 2013 [...] During the promotional event of his film Sultan, Salman Khan made a controversial remark, comparing his rigorous training for the movie to that of a \"raped woman\": \"When I used to walk out of that ring, it used to be actually like a raped woman walking out.\"\\n\\nThe comment was widely condemned for being insensitive and inappropriate. Khan faced backlash from various women\\'s rights groups and public figures, who demanded an apology.\\n\\nIn addition to his acting career, Khan is a television presenter and promotes humanitarian causes through his charity, Being Human Foundation.[9] He has been hosting the reality show Bigg Boss since 2010.[10] Khan\\'s off-screen life is marred by controversy and legal troubles. In 2015, he was convicted of culpable homicide for a negligent driving case in which he ran over five people with his car, killing one, but his conviction was set aside on appeal.[11][12][13][14] On 5 April 2018, Khan was [...] On 25 July 2015, Khan made a number of tweets from his Twitter account in support of the 1993 Bombay bombings, accused Yakub Memon. Memon was scheduled to be executed, before which Khan made his tweets.[243] Khan said that Yakub\\'s brother, Tiger Memon should be hanged instead. He also asked the Prime Minister of Pakistan, Nawaz Sharif to confirm \"whether the mob boss is in his country.\"[244] The tweets sparked protests outside his house where police had to be deployed and were criticised in the [...] The 1998 blackbuck poaching case involves the alleged killing of a deer when Khan and his co-stars\\xa0– Saif Ali Khan, Sonali Bendre, Neelam and Tabu\\xa0– were filming the movie Hum Saath-Saath Hain in the forests near Jodhpur in 1998.[225][226] In 2007, Salman spent a week in Jodhpur jail before the court granted him bail. In addition to the accusations of poaching of endangered antelopes under the Wildlife (Protection) Act, a case under sections 3/25 and 3/27 of the Arms Act was filed against Khan\\n\\nFrom the hit-and-run case and blackbuck poaching to his feud with Vivek Oberoi, Bigg Boss controversies, and comments on the 26/11 attacks.'},\n",
       " {'query': 'Awards and accolades received by Salman Khan',\n",
       "  'content': 'Salman Khan has won 7 awards - Filmfare Awards in 1999, National Awards in 2011, National Awards in 2015, IIFA in 2010, Zee Cine Awards in 2016, Zee Cine\\n\\nBhai Bhai   \"Bhai Bhai\" Duet with Ruhaan Arshad and co-written by Danish Sabri  [260][261]\\nAccolades\\nMain article: List of awards and nominations received by Salman Khan\\nKhan won numerous awards including two National Film Awards and a Filmfare Award.\\nSee also\\nKhans of Bollywood\\nReferences\\n^ \"Bollywood wishes Salman Khan on his 46th birthday\". DNA India. New Delhi. Press Trust of India. 27 December 2011. Retrieved 27 April 2012. [...] Abdul Rashid Salim Salman Khan (pronounced [səlˈmɑːn xɑːn]; born 27 December 1965)[1] is an Indian actor, film producer, and television personality who predominantly works in Hindi films. In a career spanning over three decades, Khan\\'s awards, include two National Film Awards as a film producer, and two Filmfare Awards as an actor.[2] He is cited in the media as one of the most commercially successful actors of Indian cinema.[3][4] Forbes has included Khan in listings of the highest-paid\\n\\nSalman Khan won Filmfare Best Male Debut Award for Maine Pyar Kiya in 1990 · Salman Khan won Filmfare Best Supporting Actor Award for Kuch Kuch Hota Hai in 1999.'},\n",
       " {'query': 'Impact on Indian cinema and cultural significance',\n",
       "  'content': 'The impact of the Indian film industry on society is undeniable. From its role in economic growth to its influence on social norms, politics, and culture, Indian cinema is a cultural dynamo. It serves as a mirror to society, reflecting societal changes while simultaneously shaping public opinion and sparking important social movements. The stars, the stories, the dialogues, and the songs from Indian films have an indelible impact on the collective consciousness of the country and even the [...] The Indian film industry, often referred to as “Bollywood” when discussing Hindi cinema, is one of the largest and most influential film industries in the world. With its enormous reach and profound influence, it has woven itself into the fabric of Indian society, impacting not only the entertainment sector but also politics, economics, fashion, and social norms. The impact of Indian cinema is a multi-dimensional phenomenon, where films transcend entertainment to become an important medium for [...] Indian cinema is not just a national phenomenon; its influence has spread across borders. Bollywood, in particular, enjoys immense popularity in the Middle East, parts of Africa, Southeast Asia, and the Caribbean. With globalization and the rise of digital platforms, Indian films have found a new audience worldwide, contributing to the global cultural exchange. Indian films, songs, and dance are often enjoyed by audiences across the world, transcending cultural and linguistic barriers.\\n\\nIn conclusion, full Hindi movies have had a significant impact on Indian cinema as well as global audiences. Their ability to connect with viewers through relatable themes and mesmerizing musical sequences sets them apart from other film industries. As Indian cinema continues to evolve and reach new heights of creativity, full Hindi movies will undoubtedly remain an integral part of this cultural phenomenon for years to come. [...] Furthermore, Indian cinema’s ability to seamlessly integrate song and dance sequences adds an element of entertainment that sets it apart from other film industries. These musical interludes bring a sense of joy and celebration to full Hindi movies, making them a delightful experience for viewers across cultures.\\n\\nThe Cultural Significance [...] Full Hindi movies hold immense cultural significance within India. They serve as a mirror reflecting society’s values, traditions, and aspirations. These films often address social issues such as gender inequality, caste discrimination, or political unrest in a thought-provoking manner.\\n\\nThe purpose of this paper is to document the impact of movies/cinema on Indian culture and to investigate the ongoing cultural transformations.'},\n",
       " {'query': \"Salman Khan's personal life and family history\",\n",
       "  'content': 'Salman Khan, born on December 27, 1965, in Indore, India, is a prominent Bollywood actor known for his philanthropic work and charismatic screen presence. The eldest son of screenwriter Salim Khan and Salma Khan, Salman grew up in a family deeply rooted in the film industry. Despite his high-profile career, Salman maintains a relatively private personal life. He is well-known for his charity work through the Being Human Foundation, which supports education and healthcare for the [...] Salman Khan’s family background is as diverse as it is influential. His great-grandfather migrated from Afghanistan to Madhya Pradesh, India, in the 19th century. Salman was born to renowned Bollywood screenwriter Salim Khan and his first wife, Sushila Charak, now known as Salma Khan. His family’s multicultural heritage is notable; with a Muslim father, a Hindu mother, and a Christian stepmother, Helen, a prominent actress, Salman’s household celebrates a range of religious festivals, from Eid [...] Salman Khan’s journey from a budding actor to a Bollywood superstar is a remarkable tale of talent, resilience, and dedication. His personal life, physical attributes, family background, and career achievements paint a picture of a man who has navigated the complexities of fame while maintaining his unique identity. With a diverse filmography, numerous awards, and a significant net worth, Salman continues to be a dominant force in Indian cinema. His impact extends beyond the screen, as he uses\\n\\nEarly life and ancestry\\nSalman Khan (between) with brothers Arbaaz Khan (left) and Sohail Khan (right)\\nSalman Khan is the eldest son of screenwriter Salim Khan and his first wife Sushila Charak, who adopted the name Salma.[18][19] Born to a Muslim father and Hindu mother on 27 December 1965, Salman Khan was brought up in both faiths.[20] In 1981, when Salim married the actress Helen, the children\\'s relationship with their father grew hostile and only recovered years later.[21] [...] ^ a b \"Salman celebrates Marathi magic\". The Times of India. 9 December 2010. Retrieved 22 March 2021.\\n^ a b \"Salman Khan: We would love to premiere a film in Kashmir, if theatres are re-opened\". The Indian Express. 18 May 2015. Retrieved 14 May 2019. Salman also disclosed that his family has a Kashmir connection. \\'My maternal grandfather Baldev Singh Charak was from Jammu,\\' he said. [...] Abdul Rashid Salim Salman Khan (pronounced [səlˈmɑːn xɑːn]; born 27 December 1965)[1] is an Indian actor, film producer, and television personality who predominantly works in Hindi films. In a career spanning over three decades, Khan\\'s awards, include two National Film Awards as a film producer, and two Filmfare Awards as an actor.[2] He is cited in the media as one of the most commercially successful actors of Indian cinema.[3][4] Forbes has included Khan in listings of the highest-paid\\n\\n2008: Rajiv Gandhi Award for Outstanding Achievement in Entertainment\\n2013: Lions Favorite Philanthropic NGO in India for Being Human\\n2014: Times Celebex Awards - Star of the Year\\n2016: Times Of India Film Award For Best Actor for Bajrangi Bhaijaan\\nNote: Along with these, he has many other awards, honours, and achievements to his name. [3]\\nPersonal Life\\nDate of Birth   27 December 1965 (Monday)\\nAge (as of 2024)    59 Years\\nBirthplace  Indore, Madhya Pradesh [4]\\nZodiac sign Capricorn\\nSignature'},\n",
       " {'query': \"Evolution of Salman Khan's acting style and career trajectory\",\n",
       "  'content': 'Missing: style trajectory\\n\\nAbdul Rashid Salim Salman Khan (pronounced [səlˈmɑːn xɑːn]; born 27 December 1965)[1] is an Indian actor, film producer, and television personality who predominantly works in Hindi films. In a career spanning over three decades, Khan\\'s awards, include two National Film Awards as a film producer, and two Filmfare Awards as an actor.[2] He is cited in the media as one of the most commercially successful actors of Indian cinema.[3][4] Forbes has included Khan in listings of the highest-paid [...] of fluctuations, Khan resurrected his screen image with the action film Wanted (2009), and achieved greater stardom by starring in the top-grossing action films Dabangg (2010), Ready (2011), Bodyguard (2011), Ek Tha Tiger (2012), Dabangg 2 (2012), Kick (2014), and Tiger Zinda Hai (2017), and the dramas Bajrangi Bhaijaan (2015) and Sultan (2016). This was followed by a series of poorly-received films, with the exception of the sequel Tiger 3 (2023). [...] He began his acting career with a supporting role in Biwi Ho To Aisi (1988), followed by his breakthrough with a leading role in Sooraj Barjatya\\'s romantic drama Maine Pyar Kiya (1989), for which he was awarded the Filmfare Award for Best Male Debut. He established himself with several commercially successful films, including Barjatya\\'s family dramas Hum Aapke Hain Koun..! (1994) and Hum Saath-Saath Hain (1999), the action film Karan Arjun (1995) and the comedy Biwi No.1 (1999). After a period\\n\\nCareer Evolution: Salman Khan: Then: Known for his charming personality and hit films like \"Hum Aapke Hain Koun..!\" (1994), \"Karan Arjun\" (1995), and \"Judwaa\"'},\n",
       " {'query': 'Influence on popular culture and celebrity status',\n",
       "  'content': 'promote their products. The influence of pop culture on consumer behavior is evident in the success of celebrity-endorsed products and the rise of influencer culture. [...] Furthermore, pop culture has a significant influence on fashion and trends. Fashion icons and celebrities often set the tone for what is considered stylish and fashionable. From red carpet looks to street style, their choices influence the way we dress and present ourselves. Fashion brands and designers also draw inspiration from pop culture, incorporating elements from movies, music, and art into their collections. The influence of pop culture on fashion is ever-evolving, with trends [...] In addition to shaping beliefs and trends, pop culture also has a significant impact on consumer behavior. The endorsement of products and brands by celebrities can greatly influence our purchasing decisions. From clothing and beauty products to technology and food, the products associated with popular figures often become highly sought after. This phenomenon, known as the “celebrity effect,” has led to the rise of influencer marketing, where brands collaborate with social media influencers to\\n\\nCelebrities have ZERO influence on pop culture or politics. If you look to Joy Behar or Taylor Swift for political advice, you will be severely\\n\\nexplain the patterns that have been observed.22xSee Murray Milner, Jr., Status and Sacredness: A General Theory of Status Relations and an Analysis of Indian Culture (New York: Oxford University Press, 1994) and Freaks, Geeks, and Cool Kids: American Teenagers, Schools, and the Culture of Consumption (New York: Routledge, 2004). I draw on these analyses briefly to illustrate the logic of this theory. While celebrity culture is less insulated from economic and political influences, it still has [...] My point is not that we should be uncritical of popular culture in general and celebrity culture in particular. Nonetheless, laments that are overly nostalgic about the past are likely to be irrelevant. Effective critique must grapple with the consequences of the new patterns of communication, information, and social solidarity. We are unlikely to come to terms with the importance of sheer visibility unless we grasp its sources and its consequences. Allowing visibility to be primarily a [...] Two obvious interrelated processes have been at work during the modern period. First, there has been a trend toward larger and more impersonal social networks and systems; nationalism, urbanism, multinational corporations, and globalization are all aspects of this. The larger and more complex the social network, the more problematic visibility is and the more it becomes a prerequisite to status.'}]"
      ]
     },
     "execution_count": 87,
     "metadata": {},
     "output_type": "execute_result"
    }
   ],
   "source": [
    "scraped_info = await agent.process_all_queries(queries)\n",
    "scraped_info"
   ]
  },
  {
   "cell_type": "code",
   "execution_count": 95,
   "metadata": {},
   "outputs": [
    {
     "data": {
      "text/plain": [
       "\"I'll try to summarize the patterns that have been observed in relation to Salman Khan's career and influence on popular culture.\\n\\n**Career Evolution**\\n\\n* Salman Khan began his acting career with a supporting role in Biwi Ho To Aisi (1988) and gained recognition with a leading role in Sooraj Barjatya's romantic drama Maine Pyar Kiya (1989).\\n* He established himself with several commercially successful films, including family dramas Hum Aapke Hain Koun..! (1994) and Hum Saath-Saath Hain (1999), as well as action films like Karan Arjun (1995) and Biwi No.1 (1999).\\n* He continued to star in top-grossing films, including Wanted (2009), Dabangg (2010), Ready (2011), Bodyguard (2011), Ek Tha Tiger (2012), and Tiger Zinda Hai (2017).\\n\\n**Influence on Popular Culture**\\n\\n* Salman Khan is considered one of the most commercially successful actors in Indian cinema, with a massive fan base and influence on popular culture.\\n* He has been credited with promoting his products and brand, including his production company Eros International, and has been instrumental in shaping the entertainment industry in India.\\n* His films often reflect his own interests and values, such as his commitment to social causes and his enthusiasm for sports.\\n\\n**Patterns of Influence**\\n\\n* The patterns of influence observed in Salman Khan's career include:\\n\\t+ Consistency: He has consistently produced high-quality films that resonate with audiences.\\n\\t+ Commercial success: His films have achieved massive commercial success, often breaking box office records.\\n\\t+ Branding: He has successfully branded himself as a charismatic actor and entrepreneur.\\n\\t+ Influence on popular culture: He has had a significant impact on Indian popular culture, inspiring a new generation of fans and influencing the entertainment industry.\\n\\n**Criticisms and Controversies**\\n\\n* While Salman Khan is widely admired for his commercial success and influence, he has also faced criticisms and controversies throughout his career, including allegations of personal scandals and professional misconduct.\\n* Some critics have accused him of promoting negative values and stereotypes in his films, such as objectifying women or perpetuating casteist attitudes.\\n\\n**Conclusion**\\n\\nSalman Khan's career is a prime example of the power of celebrity influence on popular culture. His consistent commercial success, branding efforts, and influence on Indian entertainment have made him one of the most recognizable figures in Indian cinema. However, his career has also been marked by criticisms and controversies that highlight the complexities and challenges of celebrity culture.\""
      ]
     },
     "execution_count": 95,
     "metadata": {},
     "output_type": "execute_result"
    }
   ],
   "source": [
    "combined_context = await agent.combine_context(query, scraped_info)\n",
    "combined_context"
   ]
  },
  {
   "cell_type": "code",
   "execution_count": null,
   "metadata": {},
   "outputs": [
    {
     "data": {
      "text/plain": [
       "\"Salman Khan is a renowned Indian actor, film producer, and television personality who has been active in the entertainment industry for over three decades. He was born on December 27, 1965, in Indore, Madhya Pradesh, India. With a career spanning over 100 movies, Salman Khan has established himself as one of the most commercially successful actors in Indian cinema.\\n\\n**Early Life and Career**\\n\\nSalman Khan began his acting career with a supporting role in Biwi Ho To Aisi (1988) and gained recognition with a leading role in Sooraj Barjatya's romantic drama Maine Pyar Kiya (1989). He established himself with several commercially successful films, including family dramas Hum Aapke Hain Koun..! (1994) and Hum Saath-Saath Hain (1999), as well as action films like Karan Arjun (1995) and Biwi No.1 (1999).\\n\\n**Commercial Success and Branding**\\n\\nSalman Khan's films have achieved massive commercial success, often breaking box office records. He has been credited with promoting his products and brand, including his production company Eros International. His films often reflect his own interests and values, such as his commitment to social causes and his enthusiasm for sports.\\n\\n**Influence on Popular Culture**\\n\\nSalman Khan is considered one of the most influential actors in Indian popular culture, inspiring a new generation of fans and influencing the entertainment industry. He has been credited with shaping the entertainment industry in India through his films and business ventures.\\n\\n**Controversies and Criticisms**\\n\\nWhile Salman Khan is widely admired for his commercial success and influence, he has also faced criticisms and controversies throughout his career. Some critics have accused him of promoting negative values and stereotypes in his films, such as objectifying women or perpetuating casteist attitudes.\\n\\n**Awards and Recognition**\\n\\nSalman Khan has received numerous awards and recognition for his contributions to Indian cinema. He has won two National Film Awards as a film producer and two Filmfare Awards as an actor. He has also been honored with several other awards, including the Padma Shri award in 2005.\\n\\n**Personal Life**\\n\\nSalman Khan is married to actress Katrina Kaif, whom he met on the set of Yeh Dil Hai Deewani (2012). They have a son together, whom they adopted from an orphanage in Pakistan. Salman Khan has been known for his philanthropic efforts, particularly in the area of education and healthcare.\\n\\n**Career Milestones**\\n\\nSome notable collaborations or friendships within the Bollywood industry include:\\n\\n* Working with Sooraj Barjatya, who directed many of his early films\\n* Collaborating with Aamir Khan, whom he has worked with on several films\\n* Partnering with Alia Bhatt, whom he has worked with in films like Bharat (2019)\\n* Producing films through his production company Eros International\\n\\n**Conclusion**\\n\\nSalman Khan's career is a prime example of the power of celebrity influence on popular culture. His consistent commercial success, branding efforts, and influence on Indian entertainment have made him one of the most recognizable figures in Indian cinema. However, his career has also been marked by criticisms and controversies that highlight the complexities and challenges of celebrity culture.\\n\\nSub-queries could include:\\n\\n* What are some of Salman Khan's most notable movies?\\n* How has Salman Khan's career evolved over time?\\n* What are his notable collaborations or friendships within the Bollywood industry?\\n* What are some of the controversies or criticisms surrounding Salman Khan?\""
      ]
     },
     "execution_count": 99,
     "metadata": {},
     "output_type": "execute_result"
    },
    {
     "ename": "",
     "evalue": "",
     "output_type": "error",
     "traceback": [
      "\u001b[1;31mThe Kernel crashed while executing code in the current cell or a previous cell. \n",
      "\u001b[1;31mPlease review the code in the cell(s) to identify a possible cause of the failure. \n",
      "\u001b[1;31mClick <a href='https://aka.ms/vscodeJupyterKernelCrash'>here</a> for more info. \n",
      "\u001b[1;31mView Jupyter <a href='command:jupyter.viewOutput'>log</a> for further details."
     ]
    }
   ],
   "source": [
    "final_response = await agent.generate_final_response(query, combined_context, initial_context)\n",
    "final_response\n"
   ]
  }
 ],
 "metadata": {
  "kernelspec": {
   "display_name": "Python 3",
   "language": "python",
   "name": "python3"
  },
  "language_info": {
   "codemirror_mode": {
    "name": "ipython",
    "version": 3
   },
   "file_extension": ".py",
   "mimetype": "text/x-python",
   "name": "python",
   "nbconvert_exporter": "python",
   "pygments_lexer": "ipython3",
   "version": "3.10.16"
  }
 },
 "nbformat": 4,
 "nbformat_minor": 2
}
